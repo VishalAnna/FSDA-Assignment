{
 "cells": [
  {
   "cell_type": "markdown",
   "id": "84a41a9f",
   "metadata": {},
   "source": [
    "# Programming Basic Assignment 6"
   ]
  },
  {
   "cell_type": "markdown",
   "id": "a4b40558",
   "metadata": {},
   "source": [
    "### 1. Write a Python Program to Display Fibonacci Sequence Using Recursion?"
   ]
  },
  {
   "cell_type": "code",
   "execution_count": 18,
   "id": "9f780ce0",
   "metadata": {},
   "outputs": [
    {
     "name": "stdout",
     "output_type": "stream",
     "text": [
      "Fibonacci sequence upto 10\n",
      "0\n",
      "1\n",
      "1\n",
      "2\n",
      "3\n",
      "5\n",
      "8\n",
      "13\n",
      "21\n",
      "34\n"
     ]
    }
   ],
   "source": [
    "def fibonacci(n):\n",
    "    if n == 0:\n",
    "        return 0\n",
    "    elif n == 1:\n",
    "        return 1\n",
    "    else:\n",
    "        return fibonacci(n-2) + fibonacci(n-1)\n",
    "\n",
    "Num=int(input(\"Enter number\"))\n",
    "print(f\"Fibonacci sequence upto {Num}\")\n",
    "\n",
    "for i in range(0,Num):\n",
    "    print(fibonacci(i))\n",
    "    "
   ]
  },
  {
   "cell_type": "markdown",
   "id": "d7a57f60",
   "metadata": {},
   "source": [
    "### 2. Write a Python Program to Find Factorial of Number Using Recursion?"
   ]
  },
  {
   "cell_type": "code",
   "execution_count": 15,
   "id": "b1656cfb",
   "metadata": {},
   "outputs": [
    {
     "name": "stdout",
     "output_type": "stream",
     "text": [
      "Factorial of 7 is 5040\n"
     ]
    }
   ],
   "source": [
    "def fact(n):\n",
    "    if n == 0:\n",
    "        return 1\n",
    "    else:\n",
    "        return n * fact(n - 1)\n",
    "\n",
    "num=int(input(\"Enter the number \"))\n",
    "\n",
    "for i in range( 1 , num + 1):\n",
    "    fact(i)\n",
    "\n",
    "print(f\"Factorial of {num} is {fact(i)}\")\n",
    "\n"
   ]
  },
  {
   "cell_type": "markdown",
   "id": "0357b86f",
   "metadata": {},
   "source": [
    "### 3. Write a Python Program to calculate your Body Mass Index?"
   ]
  },
  {
   "cell_type": "code",
   "execution_count": 30,
   "id": "72d56b75",
   "metadata": {},
   "outputs": [
    {
     "name": "stdout",
     "output_type": "stream",
     "text": [
      "Weight = 72 Kg \n",
      "Height = 1.68 Meter\n",
      "Your bmi is 25.51. You are Overweight\n"
     ]
    }
   ],
   "source": [
    "# A BMI of 25.0 or more is overweight, while the healthy range is 18.5 to 24.9\n",
    "# Enter weight in Kg and Height in Meter\n",
    "weight = int(input(\"Enter weight in Kg\"))\n",
    "height = float(input(\"Enter Height in Meter \"))\n",
    "\n",
    "# Using round function we are going to round the ans to 2 digit\n",
    "\n",
    "BMI = round(float(weight/(height*height)),2)\n",
    "\n",
    "print(f\"Weight = {weight} Kg \\nHeight = {height} Meter\")\n",
    "if BMI < 18.5:\n",
    "\n",
    "    print(f'Your bmi is {BMI}. You are Underweight')\n",
    "\n",
    "elif BMI >= 18.5 and BMI < 25:\n",
    "\n",
    "    print(f\"Your bmi is {BMI}. You are Normal\")\n",
    "\n",
    "elif  BMI >= 25 and BMI < 30:\n",
    "\n",
    "    print(f'Your bmi is {BMI}. You are Overweight')\n",
    "\n",
    "elif BMI >= 30:\n",
    "\n",
    "    print(f'Your bmi is {BMI}. Obesity')\n"
   ]
  },
  {
   "cell_type": "markdown",
   "id": "96d344a4",
   "metadata": {},
   "source": [
    "### 4. Write a Python Program to calculate the natural logarithm of any number?"
   ]
  },
  {
   "cell_type": "code",
   "execution_count": 36,
   "id": "a680f40c",
   "metadata": {},
   "outputs": [
    {
     "name": "stdout",
     "output_type": "stream",
     "text": [
      "Natural logarithamic value of 2 is 0.6931471805599453\n"
     ]
    }
   ],
   "source": [
    "# Using inbuid function math \n",
    "import math\n",
    "\n",
    "n=int(input(\"Enter number\"))\n",
    "\n",
    "# The math.log(x) function is used to calculate the natural logarithmic value \n",
    "print(f\"Natural logarithamic value of {n} is {math.log(n)}\")"
   ]
  },
  {
   "cell_type": "markdown",
   "id": "11c0d92c",
   "metadata": {},
   "source": [
    "\n",
    "### 5. Write a Python Program for cube sum of first n natural numbers?\n"
   ]
  },
  {
   "cell_type": "code",
   "execution_count": 4,
   "id": "5e8fbe9d",
   "metadata": {},
   "outputs": [
    {
     "name": "stdout",
     "output_type": "stream",
     "text": [
      "The cube sum of first 5 natural number is 225\n"
     ]
    }
   ],
   "source": [
    "# Enter number\n",
    "n=int(input(\"Enter number\"))\n",
    "\n",
    "#initilize sum\n",
    "sum=0\n",
    "\n",
    "# with the help of inbuild function pow()\n",
    "for i in range( 0 , n + 1):\n",
    "    sum = sum + pow(i,3)\n",
    "\n",
    "print(f\"The cube sum of first {n} natural number is {sum}\")"
   ]
  }
 ],
 "metadata": {
  "kernelspec": {
   "display_name": "Python 3 (ipykernel)",
   "language": "python",
   "name": "python3"
  },
  "language_info": {
   "codemirror_mode": {
    "name": "ipython",
    "version": 3
   },
   "file_extension": ".py",
   "mimetype": "text/x-python",
   "name": "python",
   "nbconvert_exporter": "python",
   "pygments_lexer": "ipython3",
   "version": "3.11.4"
  }
 },
 "nbformat": 4,
 "nbformat_minor": 5
}
