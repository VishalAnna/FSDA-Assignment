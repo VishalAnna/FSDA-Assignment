{
 "cells": [
  {
   "cell_type": "markdown",
   "id": "637b47a5",
   "metadata": {},
   "source": [
    "## Programming Assignment_1\n",
    "-------------"
   ]
  },
  {
   "cell_type": "code",
   "execution_count": 20,
   "id": "4f731e89",
   "metadata": {},
   "outputs": [
    {
     "name": "stdout",
     "output_type": "stream",
     "text": [
      "Hello Python\n"
     ]
    }
   ],
   "source": [
    "### 1. Write a Python program to print \"Hello Python\"?\n",
    "print(\"Hello Python\")"
   ]
  },
  {
   "cell_type": "code",
   "execution_count": 19,
   "id": "c12644c5",
   "metadata": {},
   "outputs": [
    {
     "name": "stdout",
     "output_type": "stream",
     "text": [
      "Enter first number 10\n",
      "enter second number 20\n",
      "Addition of two numbers 30\n",
      "Divison of two numbers 0.5\n"
     ]
    }
   ],
   "source": [
    "### 2. Write a Python program to do arithmetical operations addition and division.?\n",
    "\n",
    "#get input from user\n",
    "num1=int(input(\"Enter first number \"))\n",
    "num2=int(input(\"enter second number \"))\n",
    "\n",
    "#add both number\n",
    "add=num1+num2\n",
    "print('Addition of two numbers',add)\n",
    "\n",
    "#divison of two number\n",
    "div=num1/num2\n",
    "print('Divison of two numbers',div)"
   ]
  },
  {
   "cell_type": "code",
   "execution_count": 4,
   "id": "fec35ee3",
   "metadata": {},
   "outputs": [
    {
     "name": "stdout",
     "output_type": "stream",
     "text": [
      "Input first side value 5\n",
      "input second side value 6\n",
      "input third side value 7\n",
      "area of triangle 14.696938456699069\n"
     ]
    }
   ],
   "source": [
    "### 3. Write a Python program to find the area of a triangle?\n",
    "a=float (input('Input first side value '))\n",
    "b=float (input('input second side value '))\n",
    "c=float (input('input third side value '))\n",
    "\n",
    "#semi-perimeter value\n",
    "s=(a+b+c)/2\n",
    "\n",
    "area_of_triangle= (s*(s-a)*(s-b)*(s-c)) ** 0.5\n",
    "print(\"area of triangle\",area_of_triangle)"
   ]
  },
  {
   "cell_type": "code",
   "execution_count": 6,
   "id": "57bf6abe",
   "metadata": {},
   "outputs": [
    {
     "name": "stdout",
     "output_type": "stream",
     "text": [
      "Enter first number10\n",
      "Enter second number20\n",
      "x = 20\n",
      "y = 10\n"
     ]
    }
   ],
   "source": [
    "### 4. Write a Python program to swap two variables?\n",
    "x = input('Enter first number')\n",
    "y = input('Enter second number')\n",
    "\n",
    "x, y = y, x\n",
    "print(\"x =\", x)\n",
    "print(\"y =\", y)\n"
   ]
  },
  {
   "cell_type": "code",
   "execution_count": 18,
   "id": "2810b6c3",
   "metadata": {},
   "outputs": [
    {
     "name": "stdout",
     "output_type": "stream",
     "text": [
      "0.21913241982106957\n"
     ]
    }
   ],
   "source": [
    "### 5. Write a Python program to generate a random number?\n",
    "import random\n",
    "a=random.random()\n",
    "print(a)"
   ]
  },
  {
   "cell_type": "code",
   "execution_count": null,
   "id": "0ec6bc4f",
   "metadata": {},
   "outputs": [],
   "source": []
  }
 ],
 "metadata": {
  "kernelspec": {
   "display_name": "Python 3 (ipykernel)",
   "language": "python",
   "name": "python3"
  },
  "language_info": {
   "codemirror_mode": {
    "name": "ipython",
    "version": 3
   },
   "file_extension": ".py",
   "mimetype": "text/x-python",
   "name": "python",
   "nbconvert_exporter": "python",
   "pygments_lexer": "ipython3",
   "version": "3.10.4"
  }
 },
 "nbformat": 4,
 "nbformat_minor": 5
}
