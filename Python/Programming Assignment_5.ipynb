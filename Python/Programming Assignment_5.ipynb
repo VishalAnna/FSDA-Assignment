{
 "cells": [
  {
   "cell_type": "markdown",
   "id": "4ac9602a",
   "metadata": {},
   "source": [
    "## Python Basic Programming Assignment - 5\n",
    "--------------\n"
   ]
  },
  {
   "cell_type": "markdown",
   "id": "fdaeee06",
   "metadata": {},
   "source": [
    "### 1. Write a Python Program to Find LCM?"
   ]
  },
  {
   "cell_type": "code",
   "execution_count": 19,
   "id": "8b7ea65c",
   "metadata": {},
   "outputs": [
    {
     "name": "stdout",
     "output_type": "stream",
     "text": [
      "LCM of 12 and 24 is 24\n"
     ]
    }
   ],
   "source": [
    "# Least common multiple (LCM).\n",
    "\n",
    "# input two number.S\n",
    "num1 = int(input(\"Enter First Number\"))\n",
    "num2 = int(input(\"Enter Second Number\"))\n",
    "\n",
    "# Smallest possibility of LCM will be largest number between two.\n",
    "large_num = max(num1, num2)\n",
    "\n",
    "# Largest possibility of LCM will be multiplication of both number.\n",
    "hightest_num=num1*num2\n",
    "\n",
    "# Using for loop We can linearly find an number that is divisible by both num1 & num2.\n",
    "for i in range(large_num, hightest_num + 1):\n",
    "    if i % num1 == 0 and i % num2 == 0:\n",
    "        lcm = i\n",
    "        break\n",
    "\n",
    "# Print result using f string\n",
    "print(f\"LCM of {num1} and {num2} is {lcm}\")"
   ]
  },
  {
   "cell_type": "markdown",
   "id": "2f459cdf",
   "metadata": {},
   "source": [
    "### 2. Write a Python Program to Find HCF?"
   ]
  },
  {
   "cell_type": "code",
   "execution_count": 24,
   "id": "ef77afaa",
   "metadata": {},
   "outputs": [
    {
     "name": "stdout",
     "output_type": "stream",
     "text": [
      "HCF of 12 and 40 is 4\n"
     ]
    }
   ],
   "source": [
    "# Highest Common Factor(HCF)\n",
    "\n",
    "# input two number.\n",
    "num1 = int(input())\n",
    "num2 = int(input())\n",
    "\n",
    "#  Hcf value of two number is always less than the smallest no between two.\n",
    "smallest_num=min(num1,num2)\n",
    "\n",
    "# Using for loop We can linearly find an number that is divisible by both num1 & num2.\n",
    "for i in range(1,smallest_num):\n",
    "    if num1 % i == 0 and num2 % i == 0:\n",
    "        hcf = i\n",
    "\n",
    "# Print result using f string\n",
    "print(f\"HCF of {num1} and {num2} is {hcf}\")"
   ]
  },
  {
   "cell_type": "markdown",
   "id": "d2c29370",
   "metadata": {},
   "source": [
    "### 3. Write a Python Program to Convert Decimal to Binary, Octal and Hexadecimal?"
   ]
  },
  {
   "cell_type": "code",
   "execution_count": 33,
   "id": "af003f76",
   "metadata": {},
   "outputs": [
    {
     "name": "stdout",
     "output_type": "stream",
     "text": [
      "Converted values of decimal number 12. \n",
      "Binary=0b1100 \n",
      "Octal=0o14\n",
      "Hexadecimal=0xc\n"
     ]
    }
   ],
   "source": [
    "# Python program to convert decimal into other number systems\n",
    "Decimal_value =int(input(\"Enter value in decimal\")) \n",
    "\n",
    "#Convert using inbuild function\n",
    "binary_value=bin(Decimal_value)\n",
    "octal_value=oct(Decimal_value)\n",
    "hexadecimal_vlaue=hex(Decimal_value)\n",
    "\n",
    "print(f\"Converted values of decimal number {Decimal_value}. \")\n",
    "print(f\"Binary={binary_value} \\nOctal={octal_value}\\nHexadecimal={hexadecimal_vlaue}\")\n",
    "\n",
    "\n"
   ]
  },
  {
   "cell_type": "markdown",
   "id": "2a16c5fd",
   "metadata": {},
   "source": [
    "### 4. Write a Python Program To Find ASCII value of a character?"
   ]
  },
  {
   "cell_type": "code",
   "execution_count": 40,
   "id": "d50067db",
   "metadata": {},
   "outputs": [
    {
     "name": "stdout",
     "output_type": "stream",
     "text": [
      "ASCII value of Upper case A is 65\n"
     ]
    }
   ],
   "source": [
    "# Enter character\n",
    "character=input(\"Enter the Character \")\n",
    "\n",
    "#we are using inbuild ord() function to convert a character to an integer (ASCII value)\n",
    "ascii_value=ord(character)\n",
    "\n",
    "#Check if character is lower case or upper case.\n",
    "if character >= \"a\" and character <= \"z\":\n",
    "    print(f\"ASCII value of Lower case {character} is {ascii_value}\")\n",
    "else:\n",
    "    print(f\"ASCII value of Upper case {character} is {ascii_value}\")\n"
   ]
  },
  {
   "cell_type": "markdown",
   "id": "226778a0",
   "metadata": {},
   "source": [
    "### 5. Write a Python Program to Make a Simple Calculator with 4 basic mathematical operations?"
   ]
  },
  {
   "cell_type": "code",
   "execution_count": 58,
   "id": "3dd5f200",
   "metadata": {},
   "outputs": [
    {
     "name": "stdout",
     "output_type": "stream",
     "text": [
      "Select Operation\n",
      "1.Addition\n",
      "2.Subtraction\n",
      "3.Multiplication\n",
      "4.Division\n",
      "\n",
      "Multiplication of 15 and 15  is 225\n"
     ]
    }
   ],
   "source": [
    "#select operation you want to perform with two number.\n",
    "print(\"Select Operation\")\n",
    "print(\"1.Addition\")\n",
    "print(\"2.Subtraction\")\n",
    "print(\"3.Multiplication\")\n",
    "print(\"4.Division\\n\")\n",
    "\n",
    "choice=int(input(\"Enter opertion no you want to perform 1/2/3/4\\n\"))\n",
    "\n",
    "# Enter two number\n",
    "num1=int(input(\"Enter first number \"))\n",
    "num2=int(input(\"Enter second number \"))\n",
    "\n",
    "if choice == 1:\n",
    "    print(f\"Addition of {num1} and {num2}  is {num1 + num2}\")\n",
    "elif choice == 2:\n",
    "    print(f\"Subtraction of {num1} and {num2} is {num1 - num2}\")\n",
    "elif choice == 3:\n",
    "    print(f\"Multiplication of {num1} and {num2}  is {num1 * num2}\")\n",
    "elif choice == 4:\n",
    "    print(f\"Division of {num1} and {num2} is {float(num1 / num2)}\")\n",
    "else:\n",
    "    print(\"Select correct operation\")\n",
    "\n"
   ]
  }
 ],
 "metadata": {
  "kernelspec": {
   "display_name": "Python 3 (ipykernel)",
   "language": "python",
   "name": "python3"
  },
  "language_info": {
   "codemirror_mode": {
    "name": "ipython",
    "version": 3
   },
   "file_extension": ".py",
   "mimetype": "text/x-python",
   "name": "python",
   "nbconvert_exporter": "python",
   "pygments_lexer": "ipython3",
   "version": "3.11.4"
  }
 },
 "nbformat": 4,
 "nbformat_minor": 5
}
